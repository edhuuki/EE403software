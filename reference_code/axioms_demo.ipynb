{
 "cells": [
  {
   "cell_type": "markdown",
   "metadata": {},
   "source": [
    "# Hello this is a Demo of axioms\n",
    "\n",
    "#### Axioms is a library I created with the goal of solving systems of algebraic equations\n"
   ]
  },
  {
   "cell_type": "code",
   "execution_count": 1,
   "metadata": {},
   "outputs": [
    {
     "name": "stdout",
     "output_type": "stream",
     "text": [
      "  _= \n",
      " /  \\\n",
      " +  c\n",
      "/ \\  \n",
      "a b  \n",
      "############\n",
      " - \n",
      "/ \\\n",
      "c a\n"
     ]
    }
   ],
   "source": [
    "from axioms import expression as e  ## Expressions are the class on which all functions operate\n",
    "\n",
    "\n",
    "test = e('a+b=c')\n",
    "test.display()\n",
    "testb = test.invert_branch('b')     # Invert branch aims to solve for a node within an expression\n",
    "print('############')\n",
    "testb.display()"
   ]
  },
  {
   "cell_type": "markdown",
   "metadata": {},
   "source": [
    "This is starting off very simple but can quickly progress into much bigger trees of expressions\n"
   ]
  },
  {
   "cell_type": "code",
   "execution_count": 2,
   "metadata": {},
   "outputs": [
    {
     "name": "stdout",
     "output_type": "stream",
     "text": [
      "  _=_  \n",
      " /   \\ \n",
      " +   = \n",
      "/ \\ / \\\n",
      "5 b c 1\n"
     ]
    }
   ],
   "source": [
    "# values within expressions can be constrained or replaced\n",
    "\n",
    "test.replace('a',5)\n",
    "test.constrain('c',1)\n",
    "test.display()"
   ]
  },
  {
   "cell_type": "markdown",
   "metadata": {},
   "source": [
    "Finally expressions can be solved or evaluated if possible. Here 'b' within 'test' can be evaluated.\n"
   ]
  },
  {
   "cell_type": "code",
   "execution_count": 3,
   "metadata": {},
   "outputs": [
    {
     "name": "stdout",
     "output_type": "stream",
     "text": [
      "b = -4\n",
      "b = -4\n",
      "c = 1\n"
     ]
    }
   ],
   "source": [
    "b = test.invert_branch('b')\n",
    "print(f'b = {b.evaluate()}')\n",
    "solutions = test.solve()        # c is outputed as a solution since c was constrained and not replaced"
   ]
  }
 ],
 "metadata": {
  "kernelspec": {
   "display_name": "Python 3.9.1 ('base')",
   "language": "python",
   "name": "python3"
  },
  "language_info": {
   "codemirror_mode": {
    "name": "ipython",
    "version": 3
   },
   "file_extension": ".py",
   "mimetype": "text/x-python",
   "name": "python",
   "nbconvert_exporter": "python",
   "pygments_lexer": "ipython3",
   "version": "3.9.1"
  },
  "orig_nbformat": 4,
  "vscode": {
   "interpreter": {
    "hash": "9e383cad116e0f87aab72c7dfdfeaf83eefebbf351605273931a210b923ad1fa"
   }
  }
 },
 "nbformat": 4,
 "nbformat_minor": 2
}
